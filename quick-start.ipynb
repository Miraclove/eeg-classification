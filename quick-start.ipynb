{
 "cells": [
  {
   "cell_type": "code",
   "execution_count": 8,
   "metadata": {},
   "outputs": [
    {
     "name": "stderr",
     "output_type": "stream",
     "text": [
      "[2024-10-15 13:58:07] INFO (torcheeg/MainThread) 🔍 | Detected cached processing results, reading cache from ../data/SEED_IV/seed_iv.\n"
     ]
    },
    {
     "name": "stdout",
     "output_type": "stream",
     "text": [
      "shape of input sample torch.Size([4, 9, 9])\n",
      "target_list {0, 1, 2, 3}\n"
     ]
    }
   ],
   "source": [
    "#------------------------ Header Comment ----------------------#\n",
    "# File: quick-start.py\n",
    "# Date: 2024-10-14\n",
    "# Author: Weizhi Peng\n",
    "#--------------------------------------------------------------#\n",
    "# Purpose:\n",
    "# This script is designed to test an emotion recognition \n",
    "# pipeline using EEG data from the SEED-IV dataset step by step. The pipeline \n",
    "# involves data preprocessing, model training, and evaluation using \n",
    "# 10-fold cross-validation. It employs a convolutional neural network \n",
    "# (CCNN) for emotion classification into four categories based on \n",
    "# EEG signals.\n",
    "#\n",
    "# Main steps of the pipeline:\n",
    "# 1. Load and preprocess EEG data from SEED-IV dataset.\n",
    "# 2. Apply 10-fold cross-validation for model evaluation.\n",
    "# 3. Train a CCNN model for emotion classification.\n",
    "# 4. Use early stopping and model checkpointing during training.\n",
    "# 5. Evaluate the model and display test accuracy for each fold.\n",
    "#\n",
    "# Requirements:\n",
    "# - PyTorch\n",
    "# - PyTorch Lightning\n",
    "# - TorchEEG library\n",
    "#\n",
    "# Notes:\n",
    "# This script leverages GPU acceleration (CUDA or MPS) when available, \n",
    "# falling back to CPU if neither is accessible.\n",
    "#--------------------------------------------------------------#\n",
    "\n",
    "\n",
    "\n",
    "\n",
    "from torcheeg import transforms\n",
    "from torcheeg.transforms.pyg import ToG\n",
    "from torcheeg.datasets import SEEDIVDataset\n",
    "from torcheeg.datasets.constants.emotion_recognition.seed_iv import (SEED_IV_ADJACENCY_MATRIX,\n",
    "                                                   SEED_IV_CHANNEL_LOCATION_DICT)\n",
    "\n",
    "# test the SEEDIVDataset\n",
    "dataset = SEEDIVDataset(io_path=f'../data/SEED_IV/seed_iv',\n",
    "                     root_path='../data/SEED_IV/eeg_raw_data',\n",
    "                     offline_transform=transforms.Compose([\n",
    "                          transforms.BandDifferentialEntropy(),\n",
    "                          transforms.ToGrid(SEED_IV_CHANNEL_LOCATION_DICT)\n",
    "                      ]),\n",
    "                     online_transform=transforms.ToTensor(),\n",
    "                     label_transform=transforms.Compose([\n",
    "                         transforms.Select('emotion'),\n",
    "                         transforms.Lambda(lambda x: x),\n",
    "                     ]),\n",
    "                     num_worker=4)\n",
    "(sample,target) = dataset[0]\n",
    "print(\"shape of input sample\",sample.shape)\n",
    "# check how many target classes from dataset\n",
    "target_list = []\n",
    "for i in range(len(dataset)):\n",
    "    _, target = dataset[i]\n",
    "    target_list.append(target)\n",
    "print(\"target_list\",set(target_list))\n",
    "\n",
    "\n",
    "\n",
    "\n",
    "\n"
   ]
  },
  {
   "cell_type": "code",
   "execution_count": 10,
   "metadata": {},
   "outputs": [],
   "source": [
    "# raw data\n",
    "# from torcheeg.datasets import SEEDIVDataset\n",
    "# from torcheeg import transforms\n",
    "\n",
    "# dataset = SEEDIVDataset(root_path='../data/SEED_IV/eeg_raw_data',\n",
    "#                         io_path='.torcheeg/datasets_1728969147724_1jRHe',\n",
    "#                         online_transform=transforms.Compose([\n",
    "#                             transforms.ToTensor(),\n",
    "#                             transforms.To2d()\n",
    "#                         ]),\n",
    "#                         label_transform=transforms.Select('emotion'))\n",
    "\n",
    "# (sample,target) = dataset[0]\n",
    "# print(\"shape of input sample\",sample.shape)\n",
    "# # check how many target classes from dataset\n",
    "# target_list = []\n",
    "# for i in range(len(dataset)):\n",
    "#     _, target = dataset[i]\n",
    "#     target_list.append(target)\n",
    "# print(\"target_list\",set(target_list))\n"
   ]
  },
  {
   "cell_type": "code",
   "execution_count": 11,
   "metadata": {},
   "outputs": [],
   "source": [
    "from torcheeg.model_selection import KFoldGroupbyTrial\n",
    "\n",
    "# 10-fold cross-validation\n",
    "k_fold = KFoldGroupbyTrial(n_splits=10,\n",
    "                           split_path='./tmp_out/examples_pipeline/split',\n",
    "                           shuffle=True,\n",
    "                           random_state=42)"
   ]
  },
  {
   "cell_type": "code",
   "execution_count": 12,
   "metadata": {},
   "outputs": [
    {
     "name": "stdout",
     "output_type": "stream",
     "text": [
      "cuda is available\n"
     ]
    }
   ],
   "source": [
    "from torch.utils.data import DataLoader\n",
    "from torcheeg.models import CCNN\n",
    "\n",
    "from torcheeg.trainers import ClassifierTrainer\n",
    "\n",
    "import pytorch_lightning as pl\n",
    "import torch\n",
    "\n",
    "\n",
    "\n",
    "# get accelerator\n",
    "if torch.cuda.is_available():\n",
    "    print('cuda is available')\n",
    "    device = 'cuda'\n",
    "elif torch.has_mps:\n",
    "    print('mps is available')\n",
    "    device = 'mps'\n",
    "else:\n",
    "    print('cuda is not available, use cpu')\n",
    "    device = 'cpu'\n",
    "\n",
    "\n"
   ]
  },
  {
   "cell_type": "code",
   "execution_count": 13,
   "metadata": {},
   "outputs": [
    {
     "name": "stderr",
     "output_type": "stream",
     "text": [
      "[2024-10-15 13:59:21] INFO (torcheeg/MainThread) 📊 | Detected existing split of train and test set, use existing split from ./tmp_out/examples_pipeline/split.\n",
      "[2024-10-15 13:59:21] INFO (torcheeg/MainThread) 💡 | If the dataset is re-generated, you need to re-generate the split of the dataset instead of using the previous split.\n",
      "GPU available: True (cuda), used: True\n",
      "TPU available: False, using: 0 TPU cores\n",
      "HPU available: False, using: 0 HPUs\n",
      "/home/jim/anaconda3/envs/eeg/lib/python3.9/site-packages/pytorch_lightning/trainer/connectors/logger_connector/logger_connector.py:75: Starting from v1.9.0, `tensorboardX` has been removed as a dependency of the `pytorch_lightning` package, due to potential conflicts with other packages in the ML ecosystem. For this reason, `logger=True` will use `CSVLogger` as the default logger, unless the `tensorboard` or `tensorboardX` packages are found. Please `pip install lightning[extra]` or one of them to enable TensorBoard support by default\n",
      "You are using a CUDA device ('NVIDIA GeForce RTX 4090') that has Tensor Cores. To properly utilize them, you should set `torch.set_float32_matmul_precision('medium' | 'high')` which will trade-off precision for performance. For more details, read https://pytorch.org/docs/stable/generated/torch.set_float32_matmul_precision.html#torch.set_float32_matmul_precision\n",
      "LOCAL_RANK: 0 - CUDA_VISIBLE_DEVICES: [0]\n",
      "\n",
      "  | Name          | Type             | Params | Mode \n",
      "-----------------------------------------------------------\n",
      "0 | model         | CCNN             | 6.2 M  | train\n",
      "1 | ce_fn         | CrossEntropyLoss | 0      | train\n",
      "2 | train_loss    | MeanMetric       | 0      | train\n",
      "3 | val_loss      | MeanMetric       | 0      | train\n",
      "4 | test_loss     | MeanMetric       | 0      | train\n",
      "5 | train_metrics | MetricCollection | 0      | train\n",
      "6 | val_metrics   | MetricCollection | 0      | train\n",
      "7 | test_metrics  | MetricCollection | 0      | train\n",
      "-----------------------------------------------------------\n",
      "6.2 M     Trainable params\n",
      "0         Non-trainable params\n",
      "6.2 M     Total params\n",
      "24.943    Total estimated model params size (MB)\n",
      "32        Modules in train mode\n",
      "0         Modules in eval mode\n",
      "/home/jim/anaconda3/envs/eeg/lib/python3.9/site-packages/pytorch_lightning/trainer/connectors/data_connector.py:424: The 'train_dataloader' does not have many workers which may be a bottleneck. Consider increasing the value of the `num_workers` argument` to `num_workers=27` in the `DataLoader` to improve performance.\n"
     ]
    },
    {
     "name": "stdout",
     "output_type": "stream",
     "text": [
      "Epoch 0:   2%|▏         | 2/132 [00:00<00:28,  4.62it/s, v_num=21, train_loss=1.380, train_accuracy=0.266]"
     ]
    },
    {
     "name": "stderr",
     "output_type": "stream",
     "text": [
      "/home/jim/anaconda3/envs/eeg/lib/python3.9/site-packages/torch/nn/functional.py:1347: UserWarning: dropout2d: Received a 2-D input to dropout2d, which is deprecated and will result in an error in a future release. To retain the behavior and silence this warning, please use dropout instead. Note that dropout2d exists to provide channel-wise dropout on inputs with 2 spatial dimensions, a channel dimension, and an optional batch dimension (i.e. 3D or 4D inputs).\n",
      "  warnings.warn(warn_msg)\n"
     ]
    },
    {
     "name": "stdout",
     "output_type": "stream",
     "text": [
      "Epoch 0: 100%|██████████| 132/132 [00:03<00:00, 43.95it/s, v_num=21, train_loss=1.340, train_accuracy=0.381]"
     ]
    },
    {
     "name": "stderr",
     "output_type": "stream",
     "text": [
      "[2024-10-15 13:59:25] INFO (torcheeg/MainThread) \n",
      "[Train] train_loss: 1.371 train_accuracy: 0.298 \n",
      "\n",
      "`Trainer.fit` stopped: `max_epochs=1` reached.\n"
     ]
    },
    {
     "name": "stdout",
     "output_type": "stream",
     "text": [
      "Epoch 0: 100%|██████████| 132/132 [00:03<00:00, 42.03it/s, v_num=21, train_loss=1.340, train_accuracy=0.381]\n"
     ]
    },
    {
     "name": "stderr",
     "output_type": "stream",
     "text": [
      "GPU available: True (cuda), used: True\n",
      "TPU available: False, using: 0 TPU cores\n",
      "HPU available: False, using: 0 HPUs\n",
      "LOCAL_RANK: 0 - CUDA_VISIBLE_DEVICES: [0]\n",
      "/home/jim/anaconda3/envs/eeg/lib/python3.9/site-packages/pytorch_lightning/trainer/connectors/data_connector.py:424: The 'test_dataloader' does not have many workers which may be a bottleneck. Consider increasing the value of the `num_workers` argument` to `num_workers=27` in the `DataLoader` to improve performance.\n"
     ]
    },
    {
     "name": "stdout",
     "output_type": "stream",
     "text": [
      "Testing DataLoader 0: 100%|██████████| 16/16 [00:00<00:00, 71.80it/s]"
     ]
    },
    {
     "name": "stderr",
     "output_type": "stream",
     "text": [
      "[2024-10-15 13:59:25] INFO (torcheeg/MainThread) \n",
      "[Test] test_loss: 1.357 test_accuracy: 0.301 \n",
      "\n"
     ]
    },
    {
     "name": "stdout",
     "output_type": "stream",
     "text": [
      "Testing DataLoader 0: 100%|██████████| 16/16 [00:00<00:00, 70.71it/s]\n",
      "────────────────────────────────────────────────────────────────────────────────────────────────────────────────────────\n",
      "       Test metric             DataLoader 0\n",
      "────────────────────────────────────────────────────────────────────────────────────────────────────────────────────────\n",
      "      test_accuracy         0.30051282048225403\n",
      "        test_loss           1.3571863174438477\n",
      "────────────────────────────────────────────────────────────────────────────────────────────────────────────────────────\n",
      "Fold 0 test accuracy: 0.3005\n"
     ]
    },
    {
     "name": "stderr",
     "output_type": "stream",
     "text": [
      "GPU available: True (cuda), used: True\n",
      "TPU available: False, using: 0 TPU cores\n",
      "HPU available: False, using: 0 HPUs\n",
      "LOCAL_RANK: 0 - CUDA_VISIBLE_DEVICES: [0]\n",
      "\n",
      "  | Name          | Type             | Params | Mode \n",
      "-----------------------------------------------------------\n",
      "0 | model         | CCNN             | 6.2 M  | train\n",
      "1 | ce_fn         | CrossEntropyLoss | 0      | train\n",
      "2 | train_loss    | MeanMetric       | 0      | train\n",
      "3 | val_loss      | MeanMetric       | 0      | train\n",
      "4 | test_loss     | MeanMetric       | 0      | train\n",
      "5 | train_metrics | MetricCollection | 0      | train\n",
      "6 | val_metrics   | MetricCollection | 0      | train\n",
      "7 | test_metrics  | MetricCollection | 0      | train\n",
      "-----------------------------------------------------------\n",
      "6.2 M     Trainable params\n",
      "0         Non-trainable params\n",
      "6.2 M     Total params\n",
      "24.943    Total estimated model params size (MB)\n",
      "32        Modules in train mode\n",
      "0         Modules in eval mode\n",
      "/home/jim/anaconda3/envs/eeg/lib/python3.9/site-packages/pytorch_lightning/trainer/connectors/data_connector.py:424: The 'train_dataloader' does not have many workers which may be a bottleneck. Consider increasing the value of the `num_workers` argument` to `num_workers=27` in the `DataLoader` to improve performance.\n"
     ]
    },
    {
     "name": "stdout",
     "output_type": "stream",
     "text": [
      "Epoch 0:   2%|▏         | 2/132 [00:00<00:04, 31.19it/s, v_num=5, train_loss=1.370, train_accuracy=0.301]"
     ]
    },
    {
     "name": "stderr",
     "output_type": "stream",
     "text": [
      "/home/jim/anaconda3/envs/eeg/lib/python3.9/site-packages/torch/nn/functional.py:1347: UserWarning: dropout2d: Received a 2-D input to dropout2d, which is deprecated and will result in an error in a future release. To retain the behavior and silence this warning, please use dropout instead. Note that dropout2d exists to provide channel-wise dropout on inputs with 2 spatial dimensions, a channel dimension, and an optional batch dimension (i.e. 3D or 4D inputs).\n",
      "  warnings.warn(warn_msg)\n"
     ]
    },
    {
     "name": "stdout",
     "output_type": "stream",
     "text": [
      "Epoch 0: 100%|██████████| 132/132 [00:02<00:00, 49.94it/s, v_num=5, train_loss=1.370, train_accuracy=0.364]"
     ]
    },
    {
     "name": "stderr",
     "output_type": "stream",
     "text": [
      "[2024-10-15 13:59:28] INFO (torcheeg/MainThread) \n",
      "[Train] train_loss: 1.361 train_accuracy: 0.307 \n",
      "\n",
      "`Trainer.fit` stopped: `max_epochs=1` reached.\n"
     ]
    },
    {
     "name": "stdout",
     "output_type": "stream",
     "text": [
      "Epoch 0: 100%|██████████| 132/132 [00:02<00:00, 47.53it/s, v_num=5, train_loss=1.370, train_accuracy=0.364]\n"
     ]
    },
    {
     "name": "stderr",
     "output_type": "stream",
     "text": [
      "GPU available: True (cuda), used: True\n",
      "TPU available: False, using: 0 TPU cores\n",
      "HPU available: False, using: 0 HPUs\n",
      "LOCAL_RANK: 0 - CUDA_VISIBLE_DEVICES: [0]\n",
      "/home/jim/anaconda3/envs/eeg/lib/python3.9/site-packages/pytorch_lightning/trainer/connectors/data_connector.py:424: The 'test_dataloader' does not have many workers which may be a bottleneck. Consider increasing the value of the `num_workers` argument` to `num_workers=27` in the `DataLoader` to improve performance.\n"
     ]
    },
    {
     "name": "stdout",
     "output_type": "stream",
     "text": [
      "Testing DataLoader 0: 100%|██████████| 16/16 [00:00<00:00, 70.74it/s]"
     ]
    },
    {
     "name": "stderr",
     "output_type": "stream",
     "text": [
      "[2024-10-15 13:59:29] INFO (torcheeg/MainThread) \n",
      "[Test] test_loss: 1.324 test_accuracy: 0.376 \n",
      "\n"
     ]
    },
    {
     "name": "stdout",
     "output_type": "stream",
     "text": [
      "Testing DataLoader 0: 100%|██████████| 16/16 [00:00<00:00, 69.63it/s]\n",
      "────────────────────────────────────────────────────────────────────────────────────────────────────────────────────────\n",
      "       Test metric             DataLoader 0\n",
      "────────────────────────────────────────────────────────────────────────────────────────────────────────────────────────\n",
      "      test_accuracy         0.37631916999816895\n",
      "        test_loss           1.3244131803512573\n",
      "────────────────────────────────────────────────────────────────────────────────────────────────────────────────────────\n",
      "Fold 1 test accuracy: 0.3763\n"
     ]
    },
    {
     "name": "stderr",
     "output_type": "stream",
     "text": [
      "GPU available: True (cuda), used: True\n",
      "TPU available: False, using: 0 TPU cores\n",
      "HPU available: False, using: 0 HPUs\n",
      "LOCAL_RANK: 0 - CUDA_VISIBLE_DEVICES: [0]\n",
      "\n",
      "  | Name          | Type             | Params | Mode \n",
      "-----------------------------------------------------------\n",
      "0 | model         | CCNN             | 6.2 M  | train\n",
      "1 | ce_fn         | CrossEntropyLoss | 0      | train\n",
      "2 | train_loss    | MeanMetric       | 0      | train\n",
      "3 | val_loss      | MeanMetric       | 0      | train\n",
      "4 | test_loss     | MeanMetric       | 0      | train\n",
      "5 | train_metrics | MetricCollection | 0      | train\n",
      "6 | val_metrics   | MetricCollection | 0      | train\n",
      "7 | test_metrics  | MetricCollection | 0      | train\n",
      "-----------------------------------------------------------\n",
      "6.2 M     Trainable params\n",
      "0         Non-trainable params\n",
      "6.2 M     Total params\n",
      "24.943    Total estimated model params size (MB)\n",
      "32        Modules in train mode\n",
      "0         Modules in eval mode\n",
      "/home/jim/anaconda3/envs/eeg/lib/python3.9/site-packages/pytorch_lightning/trainer/connectors/data_connector.py:424: The 'train_dataloader' does not have many workers which may be a bottleneck. Consider increasing the value of the `num_workers` argument` to `num_workers=27` in the `DataLoader` to improve performance.\n"
     ]
    },
    {
     "name": "stdout",
     "output_type": "stream",
     "text": [
      "Epoch 0:   5%|▌         | 7/132 [00:00<00:03, 39.49it/s, v_num=4, train_loss=1.370, train_accuracy=0.270]"
     ]
    },
    {
     "name": "stderr",
     "output_type": "stream",
     "text": [
      "/home/jim/anaconda3/envs/eeg/lib/python3.9/site-packages/torch/nn/functional.py:1347: UserWarning: dropout2d: Received a 2-D input to dropout2d, which is deprecated and will result in an error in a future release. To retain the behavior and silence this warning, please use dropout instead. Note that dropout2d exists to provide channel-wise dropout on inputs with 2 spatial dimensions, a channel dimension, and an optional batch dimension (i.e. 3D or 4D inputs).\n",
      "  warnings.warn(warn_msg)\n"
     ]
    },
    {
     "name": "stdout",
     "output_type": "stream",
     "text": [
      "Epoch 0: 100%|██████████| 132/132 [00:03<00:00, 41.66it/s, v_num=4, train_loss=1.330, train_accuracy=0.349]"
     ]
    },
    {
     "name": "stderr",
     "output_type": "stream",
     "text": [
      "[2024-10-15 13:59:32] INFO (torcheeg/MainThread) \n",
      "[Train] train_loss: 1.357 train_accuracy: 0.319 \n",
      "\n",
      "`Trainer.fit` stopped: `max_epochs=1` reached.\n"
     ]
    },
    {
     "name": "stdout",
     "output_type": "stream",
     "text": [
      "Epoch 0: 100%|██████████| 132/132 [00:03<00:00, 39.95it/s, v_num=4, train_loss=1.330, train_accuracy=0.349]\n"
     ]
    },
    {
     "name": "stderr",
     "output_type": "stream",
     "text": [
      "GPU available: True (cuda), used: True\n",
      "TPU available: False, using: 0 TPU cores\n",
      "HPU available: False, using: 0 HPUs\n",
      "LOCAL_RANK: 0 - CUDA_VISIBLE_DEVICES: [0]\n",
      "/home/jim/anaconda3/envs/eeg/lib/python3.9/site-packages/pytorch_lightning/trainer/connectors/data_connector.py:424: The 'test_dataloader' does not have many workers which may be a bottleneck. Consider increasing the value of the `num_workers` argument` to `num_workers=27` in the `DataLoader` to improve performance.\n"
     ]
    },
    {
     "name": "stdout",
     "output_type": "stream",
     "text": [
      "Testing DataLoader 0: 100%|██████████| 16/16 [00:00<00:00, 69.89it/s]"
     ]
    },
    {
     "name": "stderr",
     "output_type": "stream",
     "text": [
      "[2024-10-15 13:59:32] INFO (torcheeg/MainThread) \n",
      "[Test] test_loss: 1.298 test_accuracy: 0.396 \n",
      "\n"
     ]
    },
    {
     "name": "stdout",
     "output_type": "stream",
     "text": [
      "Testing DataLoader 0: 100%|██████████| 16/16 [00:00<00:00, 68.89it/s]\n",
      "────────────────────────────────────────────────────────────────────────────────────────────────────────────────────────\n",
      "       Test metric             DataLoader 0\n",
      "────────────────────────────────────────────────────────────────────────────────────────────────────────────────────────\n",
      "      test_accuracy         0.3961240351200104\n",
      "        test_loss           1.2981573343276978\n",
      "────────────────────────────────────────────────────────────────────────────────────────────────────────────────────────\n",
      "Fold 2 test accuracy: 0.3961\n"
     ]
    },
    {
     "name": "stderr",
     "output_type": "stream",
     "text": [
      "GPU available: True (cuda), used: True\n",
      "TPU available: False, using: 0 TPU cores\n",
      "HPU available: False, using: 0 HPUs\n",
      "LOCAL_RANK: 0 - CUDA_VISIBLE_DEVICES: [0]\n",
      "\n",
      "  | Name          | Type             | Params | Mode \n",
      "-----------------------------------------------------------\n",
      "0 | model         | CCNN             | 6.2 M  | train\n",
      "1 | ce_fn         | CrossEntropyLoss | 0      | train\n",
      "2 | train_loss    | MeanMetric       | 0      | train\n",
      "3 | val_loss      | MeanMetric       | 0      | train\n",
      "4 | test_loss     | MeanMetric       | 0      | train\n",
      "5 | train_metrics | MetricCollection | 0      | train\n",
      "6 | val_metrics   | MetricCollection | 0      | train\n",
      "7 | test_metrics  | MetricCollection | 0      | train\n",
      "-----------------------------------------------------------\n",
      "6.2 M     Trainable params\n",
      "0         Non-trainable params\n",
      "6.2 M     Total params\n",
      "24.943    Total estimated model params size (MB)\n",
      "32        Modules in train mode\n",
      "0         Modules in eval mode\n",
      "/home/jim/anaconda3/envs/eeg/lib/python3.9/site-packages/pytorch_lightning/trainer/connectors/data_connector.py:424: The 'train_dataloader' does not have many workers which may be a bottleneck. Consider increasing the value of the `num_workers` argument` to `num_workers=27` in the `DataLoader` to improve performance.\n"
     ]
    },
    {
     "name": "stdout",
     "output_type": "stream",
     "text": [
      "Epoch 0:   2%|▏         | 2/132 [00:00<00:04, 26.16it/s, v_num=4, train_loss=1.390, train_accuracy=0.234]"
     ]
    },
    {
     "name": "stderr",
     "output_type": "stream",
     "text": [
      "/home/jim/anaconda3/envs/eeg/lib/python3.9/site-packages/torch/nn/functional.py:1347: UserWarning: dropout2d: Received a 2-D input to dropout2d, which is deprecated and will result in an error in a future release. To retain the behavior and silence this warning, please use dropout instead. Note that dropout2d exists to provide channel-wise dropout on inputs with 2 spatial dimensions, a channel dimension, and an optional batch dimension (i.e. 3D or 4D inputs).\n",
      "  warnings.warn(warn_msg)\n"
     ]
    },
    {
     "name": "stdout",
     "output_type": "stream",
     "text": [
      "Epoch 0: 100%|██████████| 132/132 [00:03<00:00, 41.85it/s, v_num=4, train_loss=1.320, train_accuracy=0.358]"
     ]
    },
    {
     "name": "stderr",
     "output_type": "stream",
     "text": [
      "[2024-10-15 13:59:36] INFO (torcheeg/MainThread) \n",
      "[Train] train_loss: 1.360 train_accuracy: 0.311 \n",
      "\n",
      "`Trainer.fit` stopped: `max_epochs=1` reached.\n"
     ]
    },
    {
     "name": "stdout",
     "output_type": "stream",
     "text": [
      "Epoch 0: 100%|██████████| 132/132 [00:03<00:00, 40.21it/s, v_num=4, train_loss=1.320, train_accuracy=0.358]\n"
     ]
    },
    {
     "name": "stderr",
     "output_type": "stream",
     "text": [
      "GPU available: True (cuda), used: True\n",
      "TPU available: False, using: 0 TPU cores\n",
      "HPU available: False, using: 0 HPUs\n",
      "LOCAL_RANK: 0 - CUDA_VISIBLE_DEVICES: [0]\n",
      "/home/jim/anaconda3/envs/eeg/lib/python3.9/site-packages/pytorch_lightning/trainer/connectors/data_connector.py:424: The 'test_dataloader' does not have many workers which may be a bottleneck. Consider increasing the value of the `num_workers` argument` to `num_workers=27` in the `DataLoader` to improve performance.\n"
     ]
    },
    {
     "name": "stdout",
     "output_type": "stream",
     "text": [
      "Testing DataLoader 0: 100%|██████████| 15/15 [00:00<00:00, 66.37it/s]"
     ]
    },
    {
     "name": "stderr",
     "output_type": "stream",
     "text": [
      "[2024-10-15 13:59:36] INFO (torcheeg/MainThread) \n",
      "[Test] test_loss: 1.330 test_accuracy: 0.350 \n",
      "\n"
     ]
    },
    {
     "name": "stdout",
     "output_type": "stream",
     "text": [
      "Testing DataLoader 0: 100%|██████████| 15/15 [00:00<00:00, 65.48it/s]\n",
      "────────────────────────────────────────────────────────────────────────────────────────────────────────────────────────\n",
      "       Test metric             DataLoader 0\n",
      "────────────────────────────────────────────────────────────────────────────────────────────────────────────────────────\n",
      "      test_accuracy         0.35039371252059937\n",
      "        test_loss           1.3298355340957642\n",
      "────────────────────────────────────────────────────────────────────────────────────────────────────────────────────────\n",
      "Fold 3 test accuracy: 0.3504\n"
     ]
    },
    {
     "name": "stderr",
     "output_type": "stream",
     "text": [
      "GPU available: True (cuda), used: True\n",
      "TPU available: False, using: 0 TPU cores\n",
      "HPU available: False, using: 0 HPUs\n",
      "LOCAL_RANK: 0 - CUDA_VISIBLE_DEVICES: [0]\n",
      "\n",
      "  | Name          | Type             | Params | Mode \n",
      "-----------------------------------------------------------\n",
      "0 | model         | CCNN             | 6.2 M  | train\n",
      "1 | ce_fn         | CrossEntropyLoss | 0      | train\n",
      "2 | train_loss    | MeanMetric       | 0      | train\n",
      "3 | val_loss      | MeanMetric       | 0      | train\n",
      "4 | test_loss     | MeanMetric       | 0      | train\n",
      "5 | train_metrics | MetricCollection | 0      | train\n",
      "6 | val_metrics   | MetricCollection | 0      | train\n",
      "7 | test_metrics  | MetricCollection | 0      | train\n",
      "-----------------------------------------------------------\n",
      "6.2 M     Trainable params\n",
      "0         Non-trainable params\n",
      "6.2 M     Total params\n",
      "24.943    Total estimated model params size (MB)\n",
      "32        Modules in train mode\n",
      "0         Modules in eval mode\n",
      "/home/jim/anaconda3/envs/eeg/lib/python3.9/site-packages/pytorch_lightning/trainer/connectors/data_connector.py:424: The 'train_dataloader' does not have many workers which may be a bottleneck. Consider increasing the value of the `num_workers` argument` to `num_workers=27` in the `DataLoader` to improve performance.\n"
     ]
    },
    {
     "name": "stdout",
     "output_type": "stream",
     "text": [
      "Epoch 0:   0%|          | 0/133 [00:00<?, ?it/s] "
     ]
    },
    {
     "name": "stderr",
     "output_type": "stream",
     "text": [
      "/home/jim/anaconda3/envs/eeg/lib/python3.9/site-packages/torch/nn/functional.py:1347: UserWarning: dropout2d: Received a 2-D input to dropout2d, which is deprecated and will result in an error in a future release. To retain the behavior and silence this warning, please use dropout instead. Note that dropout2d exists to provide channel-wise dropout on inputs with 2 spatial dimensions, a channel dimension, and an optional batch dimension (i.e. 3D or 4D inputs).\n",
      "  warnings.warn(warn_msg)\n"
     ]
    },
    {
     "name": "stdout",
     "output_type": "stream",
     "text": [
      "Epoch 0: 100%|██████████| 133/133 [00:03<00:00, 40.70it/s, v_num=3, train_loss=1.290, train_accuracy=0.500]"
     ]
    },
    {
     "name": "stderr",
     "output_type": "stream",
     "text": [
      "[2024-10-15 13:59:40] INFO (torcheeg/MainThread) \n",
      "[Train] train_loss: 1.368 train_accuracy: 0.298 \n",
      "\n",
      "`Trainer.fit` stopped: `max_epochs=1` reached.\n"
     ]
    },
    {
     "name": "stdout",
     "output_type": "stream",
     "text": [
      "Epoch 0: 100%|██████████| 133/133 [00:03<00:00, 39.26it/s, v_num=3, train_loss=1.290, train_accuracy=0.500]\n"
     ]
    },
    {
     "name": "stderr",
     "output_type": "stream",
     "text": [
      "GPU available: True (cuda), used: True\n",
      "TPU available: False, using: 0 TPU cores\n",
      "HPU available: False, using: 0 HPUs\n",
      "LOCAL_RANK: 0 - CUDA_VISIBLE_DEVICES: [0]\n",
      "/home/jim/anaconda3/envs/eeg/lib/python3.9/site-packages/pytorch_lightning/trainer/connectors/data_connector.py:424: The 'test_dataloader' does not have many workers which may be a bottleneck. Consider increasing the value of the `num_workers` argument` to `num_workers=27` in the `DataLoader` to improve performance.\n"
     ]
    },
    {
     "name": "stdout",
     "output_type": "stream",
     "text": [
      "Testing DataLoader 0: 100%|██████████| 15/15 [00:00<00:00, 69.44it/s]"
     ]
    },
    {
     "name": "stderr",
     "output_type": "stream",
     "text": [
      "[2024-10-15 13:59:40] INFO (torcheeg/MainThread) \n",
      "[Test] test_loss: 1.334 test_accuracy: 0.349 \n",
      "\n"
     ]
    },
    {
     "name": "stdout",
     "output_type": "stream",
     "text": [
      "Testing DataLoader 0: 100%|██████████| 15/15 [00:00<00:00, 68.39it/s]\n",
      "────────────────────────────────────────────────────────────────────────────────────────────────────────────────────────\n",
      "       Test metric             DataLoader 0\n",
      "────────────────────────────────────────────────────────────────────────────────────────────────────────────────────────\n",
      "      test_accuracy         0.3487383723258972\n",
      "        test_loss            1.334243893623352\n",
      "────────────────────────────────────────────────────────────────────────────────────────────────────────────────────────\n",
      "Fold 4 test accuracy: 0.3487\n"
     ]
    },
    {
     "name": "stderr",
     "output_type": "stream",
     "text": [
      "GPU available: True (cuda), used: True\n",
      "TPU available: False, using: 0 TPU cores\n",
      "HPU available: False, using: 0 HPUs\n",
      "LOCAL_RANK: 0 - CUDA_VISIBLE_DEVICES: [0]\n",
      "\n",
      "  | Name          | Type             | Params | Mode \n",
      "-----------------------------------------------------------\n",
      "0 | model         | CCNN             | 6.2 M  | train\n",
      "1 | ce_fn         | CrossEntropyLoss | 0      | train\n",
      "2 | train_loss    | MeanMetric       | 0      | train\n",
      "3 | val_loss      | MeanMetric       | 0      | train\n",
      "4 | test_loss     | MeanMetric       | 0      | train\n",
      "5 | train_metrics | MetricCollection | 0      | train\n",
      "6 | val_metrics   | MetricCollection | 0      | train\n",
      "7 | test_metrics  | MetricCollection | 0      | train\n",
      "-----------------------------------------------------------\n",
      "6.2 M     Trainable params\n",
      "0         Non-trainable params\n",
      "6.2 M     Total params\n",
      "24.943    Total estimated model params size (MB)\n",
      "32        Modules in train mode\n",
      "0         Modules in eval mode\n",
      "/home/jim/anaconda3/envs/eeg/lib/python3.9/site-packages/pytorch_lightning/trainer/connectors/data_connector.py:424: The 'train_dataloader' does not have many workers which may be a bottleneck. Consider increasing the value of the `num_workers` argument` to `num_workers=27` in the `DataLoader` to improve performance.\n"
     ]
    },
    {
     "name": "stdout",
     "output_type": "stream",
     "text": [
      "Epoch 0:   3%|▎         | 4/133 [00:00<00:03, 34.82it/s, v_num=3, train_loss=1.380, train_accuracy=0.258]"
     ]
    },
    {
     "name": "stderr",
     "output_type": "stream",
     "text": [
      "/home/jim/anaconda3/envs/eeg/lib/python3.9/site-packages/torch/nn/functional.py:1347: UserWarning: dropout2d: Received a 2-D input to dropout2d, which is deprecated and will result in an error in a future release. To retain the behavior and silence this warning, please use dropout instead. Note that dropout2d exists to provide channel-wise dropout on inputs with 2 spatial dimensions, a channel dimension, and an optional batch dimension (i.e. 3D or 4D inputs).\n",
      "  warnings.warn(warn_msg)\n"
     ]
    },
    {
     "name": "stdout",
     "output_type": "stream",
     "text": [
      "Epoch 0: 100%|██████████| 133/133 [00:02<00:00, 49.81it/s, v_num=3, train_loss=1.240, train_accuracy=0.455]"
     ]
    },
    {
     "name": "stderr",
     "output_type": "stream",
     "text": [
      "[2024-10-15 13:59:43] INFO (torcheeg/MainThread) \n",
      "[Train] train_loss: 1.360 train_accuracy: 0.311 \n",
      "\n",
      "`Trainer.fit` stopped: `max_epochs=1` reached.\n"
     ]
    },
    {
     "name": "stdout",
     "output_type": "stream",
     "text": [
      "Epoch 0: 100%|██████████| 133/133 [00:02<00:00, 47.41it/s, v_num=3, train_loss=1.240, train_accuracy=0.455]\n"
     ]
    },
    {
     "name": "stderr",
     "output_type": "stream",
     "text": [
      "GPU available: True (cuda), used: True\n",
      "TPU available: False, using: 0 TPU cores\n",
      "HPU available: False, using: 0 HPUs\n",
      "LOCAL_RANK: 0 - CUDA_VISIBLE_DEVICES: [0]\n",
      "/home/jim/anaconda3/envs/eeg/lib/python3.9/site-packages/pytorch_lightning/trainer/connectors/data_connector.py:424: The 'test_dataloader' does not have many workers which may be a bottleneck. Consider increasing the value of the `num_workers` argument` to `num_workers=27` in the `DataLoader` to improve performance.\n"
     ]
    },
    {
     "name": "stdout",
     "output_type": "stream",
     "text": [
      "Testing DataLoader 0: 100%|██████████| 15/15 [00:00<00:00, 67.91it/s]"
     ]
    },
    {
     "name": "stderr",
     "output_type": "stream",
     "text": [
      "[2024-10-15 13:59:43] INFO (torcheeg/MainThread) \n",
      "[Test] test_loss: 1.328 test_accuracy: 0.335 \n",
      "\n"
     ]
    },
    {
     "name": "stdout",
     "output_type": "stream",
     "text": [
      "Testing DataLoader 0: 100%|██████████| 15/15 [00:00<00:00, 66.90it/s]\n",
      "────────────────────────────────────────────────────────────────────────────────────────────────────────────────────────\n",
      "       Test metric             DataLoader 0\n",
      "────────────────────────────────────────────────────────────────────────────────────────────────────────────────────────\n",
      "      test_accuracy         0.3354666531085968\n",
      "        test_loss           1.3279414176940918\n",
      "────────────────────────────────────────────────────────────────────────────────────────────────────────────────────────\n",
      "Fold 5 test accuracy: 0.3355\n"
     ]
    },
    {
     "name": "stderr",
     "output_type": "stream",
     "text": [
      "GPU available: True (cuda), used: True\n",
      "TPU available: False, using: 0 TPU cores\n",
      "HPU available: False, using: 0 HPUs\n",
      "LOCAL_RANK: 0 - CUDA_VISIBLE_DEVICES: [0]\n",
      "\n",
      "  | Name          | Type             | Params | Mode \n",
      "-----------------------------------------------------------\n",
      "0 | model         | CCNN             | 6.2 M  | train\n",
      "1 | ce_fn         | CrossEntropyLoss | 0      | train\n",
      "2 | train_loss    | MeanMetric       | 0      | train\n",
      "3 | val_loss      | MeanMetric       | 0      | train\n",
      "4 | test_loss     | MeanMetric       | 0      | train\n",
      "5 | train_metrics | MetricCollection | 0      | train\n",
      "6 | val_metrics   | MetricCollection | 0      | train\n",
      "7 | test_metrics  | MetricCollection | 0      | train\n",
      "-----------------------------------------------------------\n",
      "6.2 M     Trainable params\n",
      "0         Non-trainable params\n",
      "6.2 M     Total params\n",
      "24.943    Total estimated model params size (MB)\n",
      "32        Modules in train mode\n",
      "0         Modules in eval mode\n",
      "/home/jim/anaconda3/envs/eeg/lib/python3.9/site-packages/pytorch_lightning/trainer/connectors/data_connector.py:424: The 'train_dataloader' does not have many workers which may be a bottleneck. Consider increasing the value of the `num_workers` argument` to `num_workers=27` in the `DataLoader` to improve performance.\n"
     ]
    },
    {
     "name": "stdout",
     "output_type": "stream",
     "text": [
      "Epoch 0:   3%|▎         | 4/133 [00:00<00:03, 36.89it/s, v_num=2, train_loss=1.390, train_accuracy=0.293]"
     ]
    },
    {
     "name": "stderr",
     "output_type": "stream",
     "text": [
      "/home/jim/anaconda3/envs/eeg/lib/python3.9/site-packages/torch/nn/functional.py:1347: UserWarning: dropout2d: Received a 2-D input to dropout2d, which is deprecated and will result in an error in a future release. To retain the behavior and silence this warning, please use dropout instead. Note that dropout2d exists to provide channel-wise dropout on inputs with 2 spatial dimensions, a channel dimension, and an optional batch dimension (i.e. 3D or 4D inputs).\n",
      "  warnings.warn(warn_msg)\n"
     ]
    },
    {
     "name": "stdout",
     "output_type": "stream",
     "text": [
      "Epoch 0: 100%|██████████| 133/133 [00:03<00:00, 42.30it/s, v_num=2, train_loss=1.310, train_accuracy=0.462]"
     ]
    },
    {
     "name": "stderr",
     "output_type": "stream",
     "text": [
      "[2024-10-15 13:59:47] INFO (torcheeg/MainThread) \n",
      "[Train] train_loss: 1.366 train_accuracy: 0.305 \n",
      "\n",
      "`Trainer.fit` stopped: `max_epochs=1` reached.\n"
     ]
    },
    {
     "name": "stdout",
     "output_type": "stream",
     "text": [
      "Epoch 0: 100%|██████████| 133/133 [00:03<00:00, 40.60it/s, v_num=2, train_loss=1.310, train_accuracy=0.462]\n"
     ]
    },
    {
     "name": "stderr",
     "output_type": "stream",
     "text": [
      "GPU available: True (cuda), used: True\n",
      "TPU available: False, using: 0 TPU cores\n",
      "HPU available: False, using: 0 HPUs\n",
      "LOCAL_RANK: 0 - CUDA_VISIBLE_DEVICES: [0]\n",
      "/home/jim/anaconda3/envs/eeg/lib/python3.9/site-packages/pytorch_lightning/trainer/connectors/data_connector.py:424: The 'test_dataloader' does not have many workers which may be a bottleneck. Consider increasing the value of the `num_workers` argument` to `num_workers=27` in the `DataLoader` to improve performance.\n"
     ]
    },
    {
     "name": "stdout",
     "output_type": "stream",
     "text": [
      "Testing DataLoader 0: 100%|██████████| 15/15 [00:00<00:00, 66.74it/s]"
     ]
    },
    {
     "name": "stderr",
     "output_type": "stream",
     "text": [
      "[2024-10-15 13:59:47] INFO (torcheeg/MainThread) \n",
      "[Test] test_loss: 1.335 test_accuracy: 0.334 \n",
      "\n"
     ]
    },
    {
     "name": "stdout",
     "output_type": "stream",
     "text": [
      "Testing DataLoader 0: 100%|██████████| 15/15 [00:00<00:00, 65.49it/s]\n",
      "────────────────────────────────────────────────────────────────────────────────────────────────────────────────────────\n",
      "       Test metric             DataLoader 0\n",
      "────────────────────────────────────────────────────────────────────────────────────────────────────────────────────────\n",
      "      test_accuracy         0.33441734313964844\n",
      "        test_loss           1.3347065448760986\n",
      "────────────────────────────────────────────────────────────────────────────────────────────────────────────────────────\n",
      "Fold 6 test accuracy: 0.3344\n"
     ]
    },
    {
     "name": "stderr",
     "output_type": "stream",
     "text": [
      "GPU available: True (cuda), used: True\n",
      "TPU available: False, using: 0 TPU cores\n",
      "HPU available: False, using: 0 HPUs\n",
      "LOCAL_RANK: 0 - CUDA_VISIBLE_DEVICES: [0]\n",
      "\n",
      "  | Name          | Type             | Params | Mode \n",
      "-----------------------------------------------------------\n",
      "0 | model         | CCNN             | 6.2 M  | train\n",
      "1 | ce_fn         | CrossEntropyLoss | 0      | train\n",
      "2 | train_loss    | MeanMetric       | 0      | train\n",
      "3 | val_loss      | MeanMetric       | 0      | train\n",
      "4 | test_loss     | MeanMetric       | 0      | train\n",
      "5 | train_metrics | MetricCollection | 0      | train\n",
      "6 | val_metrics   | MetricCollection | 0      | train\n",
      "7 | test_metrics  | MetricCollection | 0      | train\n",
      "-----------------------------------------------------------\n",
      "6.2 M     Trainable params\n",
      "0         Non-trainable params\n",
      "6.2 M     Total params\n",
      "24.943    Total estimated model params size (MB)\n",
      "32        Modules in train mode\n",
      "0         Modules in eval mode\n",
      "/home/jim/anaconda3/envs/eeg/lib/python3.9/site-packages/pytorch_lightning/trainer/connectors/data_connector.py:424: The 'train_dataloader' does not have many workers which may be a bottleneck. Consider increasing the value of the `num_workers` argument` to `num_workers=27` in the `DataLoader` to improve performance.\n"
     ]
    },
    {
     "name": "stdout",
     "output_type": "stream",
     "text": [
      "Epoch 0:   2%|▏         | 3/133 [00:00<00:04, 31.42it/s, v_num=2, train_loss=1.410, train_accuracy=0.258]"
     ]
    },
    {
     "name": "stderr",
     "output_type": "stream",
     "text": [
      "/home/jim/anaconda3/envs/eeg/lib/python3.9/site-packages/torch/nn/functional.py:1347: UserWarning: dropout2d: Received a 2-D input to dropout2d, which is deprecated and will result in an error in a future release. To retain the behavior and silence this warning, please use dropout instead. Note that dropout2d exists to provide channel-wise dropout on inputs with 2 spatial dimensions, a channel dimension, and an optional batch dimension (i.e. 3D or 4D inputs).\n",
      "  warnings.warn(warn_msg)\n"
     ]
    },
    {
     "name": "stdout",
     "output_type": "stream",
     "text": [
      "Epoch 0: 100%|██████████| 133/133 [00:03<00:00, 40.41it/s, v_num=2, train_loss=1.280, train_accuracy=0.389]"
     ]
    },
    {
     "name": "stderr",
     "output_type": "stream",
     "text": [
      "[2024-10-15 13:59:51] INFO (torcheeg/MainThread) \n",
      "[Train] train_loss: 1.360 train_accuracy: 0.312 \n",
      "\n",
      "`Trainer.fit` stopped: `max_epochs=1` reached.\n"
     ]
    },
    {
     "name": "stdout",
     "output_type": "stream",
     "text": [
      "Epoch 0: 100%|██████████| 133/133 [00:03<00:00, 39.04it/s, v_num=2, train_loss=1.280, train_accuracy=0.389]\n"
     ]
    },
    {
     "name": "stderr",
     "output_type": "stream",
     "text": [
      "GPU available: True (cuda), used: True\n",
      "TPU available: False, using: 0 TPU cores\n",
      "HPU available: False, using: 0 HPUs\n",
      "LOCAL_RANK: 0 - CUDA_VISIBLE_DEVICES: [0]\n",
      "/home/jim/anaconda3/envs/eeg/lib/python3.9/site-packages/pytorch_lightning/trainer/connectors/data_connector.py:424: The 'test_dataloader' does not have many workers which may be a bottleneck. Consider increasing the value of the `num_workers` argument` to `num_workers=27` in the `DataLoader` to improve performance.\n"
     ]
    },
    {
     "name": "stdout",
     "output_type": "stream",
     "text": [
      "Testing DataLoader 0: 100%|██████████| 15/15 [00:00<00:00, 68.66it/s]"
     ]
    },
    {
     "name": "stderr",
     "output_type": "stream",
     "text": [
      "[2024-10-15 13:59:51] INFO (torcheeg/MainThread) \n",
      "[Test] test_loss: 1.304 test_accuracy: 0.372 \n",
      "\n"
     ]
    },
    {
     "name": "stdout",
     "output_type": "stream",
     "text": [
      "Testing DataLoader 0: 100%|██████████| 15/15 [00:00<00:00, 67.60it/s]\n",
      "────────────────────────────────────────────────────────────────────────────────────────────────────────────────────────\n",
      "       Test metric             DataLoader 0\n",
      "────────────────────────────────────────────────────────────────────────────────────────────────────────────────────────\n",
      "      test_accuracy         0.37197279930114746\n",
      "        test_loss           1.3037406206130981\n",
      "────────────────────────────────────────────────────────────────────────────────────────────────────────────────────────\n",
      "Fold 7 test accuracy: 0.3720\n"
     ]
    },
    {
     "name": "stderr",
     "output_type": "stream",
     "text": [
      "GPU available: True (cuda), used: True\n",
      "TPU available: False, using: 0 TPU cores\n",
      "HPU available: False, using: 0 HPUs\n",
      "LOCAL_RANK: 0 - CUDA_VISIBLE_DEVICES: [0]\n",
      "\n",
      "  | Name          | Type             | Params | Mode \n",
      "-----------------------------------------------------------\n",
      "0 | model         | CCNN             | 6.2 M  | train\n",
      "1 | ce_fn         | CrossEntropyLoss | 0      | train\n",
      "2 | train_loss    | MeanMetric       | 0      | train\n",
      "3 | val_loss      | MeanMetric       | 0      | train\n",
      "4 | test_loss     | MeanMetric       | 0      | train\n",
      "5 | train_metrics | MetricCollection | 0      | train\n",
      "6 | val_metrics   | MetricCollection | 0      | train\n",
      "7 | test_metrics  | MetricCollection | 0      | train\n",
      "-----------------------------------------------------------\n",
      "6.2 M     Trainable params\n",
      "0         Non-trainable params\n",
      "6.2 M     Total params\n",
      "24.943    Total estimated model params size (MB)\n",
      "32        Modules in train mode\n",
      "0         Modules in eval mode\n",
      "/home/jim/anaconda3/envs/eeg/lib/python3.9/site-packages/pytorch_lightning/trainer/connectors/data_connector.py:424: The 'train_dataloader' does not have many workers which may be a bottleneck. Consider increasing the value of the `num_workers` argument` to `num_workers=27` in the `DataLoader` to improve performance.\n"
     ]
    },
    {
     "name": "stdout",
     "output_type": "stream",
     "text": [
      "Epoch 0:   2%|▏         | 3/133 [00:00<00:04, 30.82it/s, v_num=2, train_loss=1.400, train_accuracy=0.254]"
     ]
    },
    {
     "name": "stderr",
     "output_type": "stream",
     "text": [
      "/home/jim/anaconda3/envs/eeg/lib/python3.9/site-packages/torch/nn/functional.py:1347: UserWarning: dropout2d: Received a 2-D input to dropout2d, which is deprecated and will result in an error in a future release. To retain the behavior and silence this warning, please use dropout instead. Note that dropout2d exists to provide channel-wise dropout on inputs with 2 spatial dimensions, a channel dimension, and an optional batch dimension (i.e. 3D or 4D inputs).\n",
      "  warnings.warn(warn_msg)\n"
     ]
    },
    {
     "name": "stdout",
     "output_type": "stream",
     "text": [
      "Epoch 0: 100%|██████████| 133/133 [00:02<00:00, 45.52it/s, v_num=2, train_loss=1.320, train_accuracy=0.379]"
     ]
    },
    {
     "name": "stderr",
     "output_type": "stream",
     "text": [
      "[2024-10-15 13:59:54] INFO (torcheeg/MainThread) \n",
      "[Train] train_loss: 1.363 train_accuracy: 0.311 \n",
      "\n",
      "`Trainer.fit` stopped: `max_epochs=1` reached.\n"
     ]
    },
    {
     "name": "stdout",
     "output_type": "stream",
     "text": [
      "Epoch 0: 100%|██████████| 133/133 [00:03<00:00, 43.38it/s, v_num=2, train_loss=1.320, train_accuracy=0.379]\n"
     ]
    },
    {
     "name": "stderr",
     "output_type": "stream",
     "text": [
      "GPU available: True (cuda), used: True\n",
      "TPU available: False, using: 0 TPU cores\n",
      "HPU available: False, using: 0 HPUs\n",
      "LOCAL_RANK: 0 - CUDA_VISIBLE_DEVICES: [0]\n",
      "/home/jim/anaconda3/envs/eeg/lib/python3.9/site-packages/pytorch_lightning/trainer/connectors/data_connector.py:424: The 'test_dataloader' does not have many workers which may be a bottleneck. Consider increasing the value of the `num_workers` argument` to `num_workers=27` in the `DataLoader` to improve performance.\n"
     ]
    },
    {
     "name": "stdout",
     "output_type": "stream",
     "text": [
      "Testing DataLoader 0: 100%|██████████| 15/15 [00:00<00:00, 70.83it/s]"
     ]
    },
    {
     "name": "stderr",
     "output_type": "stream",
     "text": [
      "[2024-10-15 13:59:55] INFO (torcheeg/MainThread) \n",
      "[Test] test_loss: 1.364 test_accuracy: 0.317 \n",
      "\n"
     ]
    },
    {
     "name": "stdout",
     "output_type": "stream",
     "text": [
      "Testing DataLoader 0: 100%|██████████| 15/15 [00:00<00:00, 69.62it/s]\n",
      "────────────────────────────────────────────────────────────────────────────────────────────────────────────────────────\n",
      "       Test metric             DataLoader 0\n",
      "────────────────────────────────────────────────────────────────────────────────────────────────────────────────────────\n",
      "      test_accuracy         0.31652891635894775\n",
      "        test_loss            1.36428701877594\n",
      "────────────────────────────────────────────────────────────────────────────────────────────────────────────────────────\n",
      "Fold 8 test accuracy: 0.3165\n"
     ]
    },
    {
     "name": "stderr",
     "output_type": "stream",
     "text": [
      "GPU available: True (cuda), used: True\n",
      "TPU available: False, using: 0 TPU cores\n",
      "HPU available: False, using: 0 HPUs\n",
      "LOCAL_RANK: 0 - CUDA_VISIBLE_DEVICES: [0]\n",
      "\n",
      "  | Name          | Type             | Params | Mode \n",
      "-----------------------------------------------------------\n",
      "0 | model         | CCNN             | 6.2 M  | train\n",
      "1 | ce_fn         | CrossEntropyLoss | 0      | train\n",
      "2 | train_loss    | MeanMetric       | 0      | train\n",
      "3 | val_loss      | MeanMetric       | 0      | train\n",
      "4 | test_loss     | MeanMetric       | 0      | train\n",
      "5 | train_metrics | MetricCollection | 0      | train\n",
      "6 | val_metrics   | MetricCollection | 0      | train\n",
      "7 | test_metrics  | MetricCollection | 0      | train\n",
      "-----------------------------------------------------------\n",
      "6.2 M     Trainable params\n",
      "0         Non-trainable params\n",
      "6.2 M     Total params\n",
      "24.943    Total estimated model params size (MB)\n",
      "32        Modules in train mode\n",
      "0         Modules in eval mode\n",
      "/home/jim/anaconda3/envs/eeg/lib/python3.9/site-packages/pytorch_lightning/trainer/connectors/data_connector.py:424: The 'train_dataloader' does not have many workers which may be a bottleneck. Consider increasing the value of the `num_workers` argument` to `num_workers=27` in the `DataLoader` to improve performance.\n"
     ]
    },
    {
     "name": "stdout",
     "output_type": "stream",
     "text": [
      "Epoch 0:   6%|▌         | 8/133 [00:00<00:02, 45.03it/s, v_num=1, train_loss=1.380, train_accuracy=0.242]"
     ]
    },
    {
     "name": "stderr",
     "output_type": "stream",
     "text": [
      "/home/jim/anaconda3/envs/eeg/lib/python3.9/site-packages/torch/nn/functional.py:1347: UserWarning: dropout2d: Received a 2-D input to dropout2d, which is deprecated and will result in an error in a future release. To retain the behavior and silence this warning, please use dropout instead. Note that dropout2d exists to provide channel-wise dropout on inputs with 2 spatial dimensions, a channel dimension, and an optional batch dimension (i.e. 3D or 4D inputs).\n",
      "  warnings.warn(warn_msg)\n"
     ]
    },
    {
     "name": "stdout",
     "output_type": "stream",
     "text": [
      "Epoch 0: 100%|██████████| 133/133 [00:02<00:00, 46.36it/s, v_num=1, train_loss=1.340, train_accuracy=0.344]"
     ]
    },
    {
     "name": "stderr",
     "output_type": "stream",
     "text": [
      "[2024-10-15 13:59:58] INFO (torcheeg/MainThread) \n",
      "[Train] train_loss: 1.366 train_accuracy: 0.301 \n",
      "\n",
      "`Trainer.fit` stopped: `max_epochs=1` reached.\n"
     ]
    },
    {
     "name": "stdout",
     "output_type": "stream",
     "text": [
      "Epoch 0: 100%|██████████| 133/133 [00:02<00:00, 44.46it/s, v_num=1, train_loss=1.340, train_accuracy=0.344]\n"
     ]
    },
    {
     "name": "stderr",
     "output_type": "stream",
     "text": [
      "GPU available: True (cuda), used: True\n",
      "TPU available: False, using: 0 TPU cores\n",
      "HPU available: False, using: 0 HPUs\n",
      "LOCAL_RANK: 0 - CUDA_VISIBLE_DEVICES: [0]\n",
      "/home/jim/anaconda3/envs/eeg/lib/python3.9/site-packages/pytorch_lightning/trainer/connectors/data_connector.py:424: The 'test_dataloader' does not have many workers which may be a bottleneck. Consider increasing the value of the `num_workers` argument` to `num_workers=27` in the `DataLoader` to improve performance.\n"
     ]
    },
    {
     "name": "stdout",
     "output_type": "stream",
     "text": [
      "Testing DataLoader 0: 100%|██████████| 15/15 [00:00<00:00, 68.27it/s]"
     ]
    },
    {
     "name": "stderr",
     "output_type": "stream",
     "text": [
      "[2024-10-15 13:59:58] INFO (torcheeg/MainThread) \n",
      "[Test] test_loss: 1.310 test_accuracy: 0.374 \n",
      "\n"
     ]
    },
    {
     "name": "stdout",
     "output_type": "stream",
     "text": [
      "Testing DataLoader 0: 100%|██████████| 15/15 [00:00<00:00, 67.16it/s]\n",
      "────────────────────────────────────────────────────────────────────────────────────────────────────────────────────────\n",
      "       Test metric             DataLoader 0\n",
      "────────────────────────────────────────────────────────────────────────────────────────────────────────────────────────\n",
      "      test_accuracy         0.37361112236976624\n",
      "        test_loss           1.3104280233383179\n",
      "────────────────────────────────────────────────────────────────────────────────────────────────────────────────────────\n",
      "Fold 9 test accuracy: 0.3736\n"
     ]
    }
   ],
   "source": [
    "# train and test\n",
    "batch_size = 256\n",
    "for i, (train_dataset, val_dataset) in enumerate(k_fold.split(dataset)):\n",
    "    # create data loader\n",
    "    train_loader = DataLoader(train_dataset, batch_size=batch_size, shuffle=True)\n",
    "    val_loader = DataLoader(val_dataset, batch_size=batch_size, shuffle=False)\n",
    "\n",
    "    # create model\n",
    "    model = CCNN(num_classes=4, in_channels=4, grid_size=(9, 9))\n",
    "\n",
    "    # create trainer\n",
    "    trainer = ClassifierTrainer(model=model,\n",
    "                                num_classes=4,\n",
    "                                lr=1e-4,\n",
    "                                weight_decay=1e-4,\n",
    "                                accelerator=device)\n",
    "    # train and test\n",
    "    trainer.fit(train_loader,\n",
    "                val_loader,\n",
    "                max_epochs=1,\n",
    "                default_root_dir=f'./tmp_out/examples_pipeline/model/{i}',\n",
    "                callbacks=[pl.callbacks.ModelCheckpoint(save_last=True)],\n",
    "                enable_progress_bar=True,\n",
    "                enable_model_summary=True,\n",
    "                limit_val_batches=0.0)\n",
    "    \n",
    "    # test\n",
    "    score = trainer.test(val_loader,\n",
    "                         enable_progress_bar=True,\n",
    "                         enable_model_summary=True)[0]\n",
    "    print(f'Fold {i} test accuracy: {score[\"test_accuracy\"]:.4f}')"
   ]
  }
 ],
 "metadata": {
  "kernelspec": {
   "display_name": "eeg",
   "language": "python",
   "name": "python3"
  },
  "language_info": {
   "codemirror_mode": {
    "name": "ipython",
    "version": 3
   },
   "file_extension": ".py",
   "mimetype": "text/x-python",
   "name": "python",
   "nbconvert_exporter": "python",
   "pygments_lexer": "ipython3",
   "version": "3.9.20"
  }
 },
 "nbformat": 4,
 "nbformat_minor": 2
}
